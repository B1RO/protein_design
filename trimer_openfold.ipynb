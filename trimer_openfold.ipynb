{
 "cells": [
  {
   "cell_type": "code",
   "execution_count": 1,
   "metadata": {},
   "outputs": [
    {
     "name": "stdout",
     "output_type": "stream",
     "text": [
      "[2024-04-30 00:26:58,349] [INFO] [real_accelerator.py:161:get_accelerator] Setting ds_accelerator to cuda (auto detect)\n"
     ]
    }
   ],
   "source": [
    "import sys\n",
    "from pathlib import Path\n",
    "from datetime import datetime\n",
    "import shutil\n",
    "from pmpnn import main as run_protein_mpnn\n",
    "from extract_best_seq import parse_and_extract\n",
    "from IPython.display import display, clear_output\n",
    "from create_empty_msas import main as create_empty_msas\n",
    "from debug_openfold import run_prediction as run_openfold\n",
    "from add_linker import convert_fasta"
   ]
  },
  {
   "cell_type": "code",
   "execution_count": 2,
   "metadata": {},
   "outputs": [
    {
     "name": "stdout",
     "output_type": "stream",
     "text": [
      "/nfs/homedirs/hetzell/code/protein_design/example_outputs/30Apr24_looping\n"
     ]
    }
   ],
   "source": [
    "PREFIX = \"looping\"\n",
    "\n",
    "current_date = datetime.now()\n",
    "ddmmyy_prefix = current_date.strftime(\"%d%b%y\")\n",
    "\n",
    "OUTPUT_DIR = Path(\"/nfs/homedirs/hetzell/code/protein_design/example_outputs\") / f\"{ddmmyy_prefix}_{PREFIX}\"\n",
    "\n",
    "if not OUTPUT_DIR.exists():\n",
    "    OUTPUT_DIR.mkdir(parents=True)\n",
    "\n",
    "print(OUTPUT_DIR)"
   ]
  },
  {
   "cell_type": "code",
   "execution_count": 5,
   "metadata": {},
   "outputs": [],
   "source": [
    "OUTPUT_DIR = Path(\"/nfs/homedirs/hetzell/code/protein_design/example_outputs\") / f\"29Apr24_looping\""
   ]
  },
  {
   "cell_type": "code",
   "execution_count": 6,
   "metadata": {},
   "outputs": [],
   "source": [
    "C8_designs = Path(\"/nfs/homedirs/hetzell/code/protein_project/protein-backbone-MCTS/outputs/C_small_chunks\")\n",
    "INPUT_PDB = C8_designs / \"Subfolder_1\" \n",
    "OUTPUT_PDB = OUTPUT_DIR/\"pdbs\"\n",
    "# Ensure the output directory exists\n",
    "if not OUTPUT_PDB.exists():\n",
    "    OUTPUT_PDB.mkdir(parents=True, exist_ok=False)\n",
    "\n",
    "# Move all PDB files to OUTPUT_DIR\n",
    "for pdb in INPUT_PDB.iterdir():\n",
    "    if pdb.is_file() and pdb.suffix.lower() == '.pdb':  # Ensure it's a file and has the .pdb extension\n",
    "        target_path = OUTPUT_PDB/ pdb.name\n",
    "        if target_path.exists():\n",
    "            continue\n",
    "        try:\n",
    "            shutil.copy(str(pdb), str(target_path))\n",
    "        except Exception as e:\n",
    "            print(f\"Failed to move {pdb} to {target_path}: {e}\")\n"
   ]
  },
  {
   "cell_type": "code",
   "execution_count": 8,
   "metadata": {},
   "outputs": [
    {
     "name": "stdout",
     "output_type": "stream",
     "text": [
      "----------------------------------------\n",
      "chain_id_jsonl is NOT loaded\n",
      "----------------------------------------\n",
      "fixed_positions_jsonl is NOT loaded\n",
      "----------------------------------------\n",
      "pssm_jsonl is NOT loaded\n",
      "----------------------------------------\n",
      "omit_AA_jsonl is NOT loaded\n",
      "----------------------------------------\n",
      "bias_AA_jsonl is NOT loaded\n",
      "----------------------------------------\n",
      "bias by residue dictionary is not loaded, or not provided\n",
      "----------------------------------------\n",
      "discarded {'bad_chars': 0, 'too_long': 0, 'bad_seq_length': 0}\n",
      "----------------------------------------\n",
      "Number of edges: 48\n",
      "Training noise level: 0.2A\n",
      "Generating sequences for: build_8_0.2203_1.0_34_2.55_0.016683\n",
      "10 sequences of length 472 generated in 1.6156 seconds\n",
      "Generating sequences for: build_8_0.2105_1.0_20_2.11_0.004154\n",
      "10 sequences of length 608 generated in 1.9614 seconds\n",
      "Generating sequences for: build_8_0.2203_1.0_12_2.41_0.003378\n",
      "10 sequences of length 472 generated in 1.5147 seconds\n",
      "Generating sequences for: build_8_0.2295_1.0_17_2.20_0.004247\n",
      "10 sequences of length 488 generated in 1.5757 seconds\n",
      "Generating sequences for: build_8_0.2424_1.0_18_2.33_0.005636\n",
      "10 sequences of length 528 generated in 2.093 seconds\n",
      "Generating sequences for: build_8_0.2131_1.0_15_2.55_0.004089\n",
      "10 sequences of length 488 generated in 1.5825 seconds\n",
      "Generating sequences for: build_8_0.2131_1.0_12_2.39_0.003282\n",
      "10 sequences of length 488 generated in 1.9472 seconds\n",
      "Generating sequences for: build_8_0.2_1.0_13_2.38_0.003256\n",
      "10 sequences of length 560 generated in 2.2008 seconds\n",
      "Generating sequences for: build_8_0.2077_1.0_32_2.21_0.007712\n",
      "10 sequences of length 616 generated in 2.1173 seconds\n",
      "Generating sequences for: build_8_0.2307_1.0_13_2.16_0.003294\n",
      "10 sequences of length 520 generated in 2.0449 seconds\n",
      "Generating sequences for: build_8_0.2258_1.0_12_2.32_0.003345\n",
      "10 sequences of length 496 generated in 1.9791 seconds\n",
      "Generating sequences for: build_8_0.2575_1.0_12_2.40_0.003714\n",
      "10 sequences of length 528 generated in 1.6862 seconds\n",
      "Generating sequences for: build_8_0.2162_1.0_15_2.16_0.003448\n",
      "10 sequences of length 592 generated in 2.3437 seconds\n",
      "Generating sequences for: build_8_0.2151_1.0_14_2.34_0.003617\n",
      "10 sequences of length 632 generated in 2.4793 seconds\n",
      "Generating sequences for: build_8_0.2166_1.0_15_2.61_0.004238\n",
      "10 sequences of length 480 generated in 1.5573 seconds\n",
      "Generating sequences for: build_8_0.2121_1.0_15_2.40_0.003887\n",
      "10 sequences of length 528 generated in 2.0726 seconds\n",
      "Generating sequences for: build_8_0.2388_1.0_18_2.09_0.004166\n",
      "10 sequences of length 536 generated in 1.707 seconds\n",
      "Generating sequences for: build_8_0.2063_1.0_15_2.26_0.003515\n",
      "10 sequences of length 504 generated in 1.6268 seconds\n",
      "Generating sequences for: build_8_0.2179_1.0_25_2.34_0.008494\n",
      "10 sequences of length 624 generated in 2.4478 seconds\n",
      "Generating sequences for: build_8_0.2328_1.0_19_2.03_0.003984\n",
      "10 sequences of length 584 generated in 2.3279 seconds\n",
      "Generating sequences for: build_8_0.2207_1.0_25_2.12_0.005974\n",
      "10 sequences of length 616 generated in 2.4142 seconds\n",
      "Generating sequences for: build_8_0.2368_1.0_28_2.56_0.017651\n",
      "10 sequences of length 608 generated in 2.3871 seconds\n",
      "Generating sequences for: build_8_0.2105_1.0_23_2.28_0.006225\n",
      "10 sequences of length 608 generated in 2.3725 seconds\n",
      "Generating sequences for: build_8_0.2876_1.0_11_2.22_0.003329\n",
      "10 sequences of length 584 generated in 2.2965 seconds\n",
      "Generating sequences for: build_8_0.2467_0.98_22_2.10_0.005638\n",
      "10 sequences of length 616 generated in 2.4774 seconds\n",
      "Generating sequences for: build_8_0.2121_1.0_16_2.03_0.003219\n",
      "10 sequences of length 528 generated in 1.6896 seconds\n",
      "Generating sequences for: build_8_0.2133_1.0_12_2.50_0.003365\n",
      "10 sequences of length 600 generated in 2.3565 seconds\n",
      "Generating sequences for: build_8_0.2238_1.0_32_2.15_0.008351\n",
      "10 sequences of length 536 generated in 2.1194 seconds\n",
      "Generating sequences for: build_8_0.2_0.94_11_2.03_0.002697\n",
      "10 sequences of length 480 generated in 1.5469 seconds\n",
      "Generating sequences for: build_8_0.2337_1.0_20_2.39_0.006945\n",
      "10 sequences of length 616 generated in 2.4545 seconds\n",
      "Generating sequences for: build_8_0.2567_1.0_18_2.08_0.004372\n",
      "10 sequences of length 592 generated in 2.3187 seconds\n",
      "Generating sequences for: build_8_0.225_1.0_12_2.18_0.003144\n",
      "10 sequences of length 640 generated in 2.5474 seconds\n",
      "Generating sequences for: build_8_0.2_1.0_13_2.00_0.002817\n",
      "10 sequences of length 440 generated in 1.7291 seconds\n",
      "Generating sequences for: build_8_0.2112_1.0_11_2.03_0.002792\n",
      "10 sequences of length 568 generated in 1.8424 seconds\n",
      "Generating sequences for: build_8_0.2307_1.0_11_2.67_0.003449\n",
      "10 sequences of length 520 generated in 2.0362 seconds\n",
      "Generating sequences for: build_8_0.2033_1.0_11_2.12_0.002836\n",
      "10 sequences of length 472 generated in 1.5156 seconds\n",
      "Generating sequences for: build_8_0.2162_1.0_23_2.05_0.004576\n",
      "10 sequences of length 592 generated in 2.0199 seconds\n",
      "Generating sequences for: build_8_0.2253_1.0_11_2.01_0.002824\n",
      "10 sequences of length 568 generated in 1.8125 seconds\n",
      "Generating sequences for: build_8_0.2191_1.0_18_2.04_0.003632\n",
      "10 sequences of length 584 generated in 1.8914 seconds\n",
      "Generating sequences for: build_8_0.2545_1.0_11_2.68_0.003651\n",
      "10 sequences of length 440 generated in 1.4195 seconds\n",
      "Generating sequences for: build_8_0.2333_1.0_15_2.38_0.004290\n",
      "10 sequences of length 480 generated in 1.6124 seconds\n",
      "Generating sequences for: build_8_0.2083_1.0_21_2.06_0.004038\n",
      "10 sequences of length 576 generated in 2.2621 seconds\n",
      "Generating sequences for: build_8_0.2424_1.0_11_2.45_0.003435\n",
      "10 sequences of length 528 generated in 1.6951 seconds\n",
      "Generating sequences for: build_8_0.2531_1.0_12_2.14_0.003243\n",
      "10 sequences of length 632 generated in 2.0191 seconds\n",
      "Generating sequences for: build_8_0.2179_1.0_15_2.46_0.004105\n",
      "10 sequences of length 624 generated in 1.9914 seconds\n",
      "Generating sequences for: build_8_0.2054_1.0_12_2.59_0.003306\n",
      "10 sequences of length 584 generated in 2.322 seconds\n",
      "Generating sequences for: build_8_0.2_1.0_14_2.20_0.003183\n",
      "10 sequences of length 640 generated in 2.5112 seconds\n",
      "Generating sequences for: build_8_0.2058_1.0_13_2.10_0.002989\n",
      "10 sequences of length 544 generated in 2.1333 seconds\n",
      "Generating sequences for: build_8_0.2567_1.0_17_2.51_0.006213\n",
      "10 sequences of length 592 generated in 1.9125 seconds\n",
      "Generating sequences for: build_8_0.2162_1.0_11_2.37_0.003154\n",
      "10 sequences of length 592 generated in 1.929 seconds\n",
      "Generating sequences for: build_8_0.2758_1.0_11_2.51_0.003669\n",
      "10 sequences of length 464 generated in 1.8267 seconds\n",
      "Generating sequences for: build_8_0.2133_1.0_21_2.00_0.003820\n",
      "10 sequences of length 600 generated in 1.9499 seconds\n",
      "Generating sequences for: build_8_0.2343_1.0_20_2.21_0.005588\n",
      "10 sequences of length 512 generated in 1.6421 seconds\n",
      "Generating sequences for: build_8_0.2535_1.0_15_2.16_0.003865\n",
      "10 sequences of length 568 generated in 2.2407 seconds\n",
      "Generating sequences for: build_8_0.2028_1.0_32_2.06_0.005265\n",
      "10 sequences of length 552 generated in 1.7675 seconds\n",
      "Generating sequences for: build_8_0.2025_1.0_16_2.00_0.003062\n",
      "10 sequences of length 632 generated in 2.4759 seconds\n",
      "Generating sequences for: build_8_0.2125_1.0_20_2.15_0.004411\n",
      "10 sequences of length 640 generated in 2.5032 seconds\n",
      "Generating sequences for: build_8_0.2077_1.0_12_2.10_0.002915\n",
      "10 sequences of length 616 generated in 1.9712 seconds\n",
      "Generating sequences for: build_8_0.2083_0.98_13_2.13_0.003027\n",
      "10 sequences of length 576 generated in 1.8455 seconds\n",
      "Generating sequences for: build_8_0.2105_1.0_15_2.09_0.003224\n",
      "10 sequences of length 456 generated in 1.4696 seconds\n",
      "Generating sequences for: build_8_0.2131_1.0_14_2.03_0.003028\n",
      "10 sequences of length 488 generated in 1.5898 seconds\n",
      "Generating sequences for: build_8_0.2131_1.0_15_2.49_0.004027\n",
      "10 sequences of length 488 generated in 1.5907 seconds\n",
      "Generating sequences for: build_8_0.2191_1.0_11_2.11_0.002915\n",
      "10 sequences of length 584 generated in 1.8828 seconds\n",
      "Generating sequences for: build_8_0.2266_1.0_12_2.17_0.003139\n",
      "10 sequences of length 600 generated in 1.9289 seconds\n",
      "Generating sequences for: build_8_0.2285_1.0_17_2.59_0.005462\n",
      "10 sequences of length 560 generated in 1.7952 seconds\n",
      "Generating sequences for: build_8_0.2153_1.0_15_2.21_0.003571\n",
      "10 sequences of length 520 generated in 1.7005 seconds\n",
      "Generating sequences for: build_8_0.2033_1.0_11_2.28_0.002977\n",
      "10 sequences of length 472 generated in 1.5156 seconds\n",
      "Generating sequences for: build_8_0.2181_1.0_15_2.25_0.003709\n",
      "10 sequences of length 440 generated in 1.4321 seconds\n",
      "Generating sequences for: build_8_0.25_1.0_14_2.11_0.003472\n",
      "10 sequences of length 608 generated in 2.3835 seconds\n",
      "Generating sequences for: build_8_0.2142_1.0_15_2.05_0.003171\n",
      "10 sequences of length 448 generated in 1.7552 seconds\n",
      "Generating sequences for: build_8_0.2285_1.0_12_2.55_0.003583\n",
      "10 sequences of length 560 generated in 1.8082 seconds\n",
      "Generating sequences for: build_8_0.25_1.0_11_2.32_0.003352\n",
      "10 sequences of length 608 generated in 1.9698 seconds\n",
      "Generating sequences for: build_8_0.2_1.0_22_2.06_0.003993\n",
      "10 sequences of length 480 generated in 1.5818 seconds\n",
      "Generating sequences for: build_8_0.2203_1.0_21_2.10_0.004612\n",
      "10 sequences of length 472 generated in 1.5265 seconds\n",
      "Generating sequences for: build_8_0.2142_1.0_14_2.18_0.003311\n",
      "10 sequences of length 560 generated in 1.7976 seconds\n",
      "Generating sequences for: build_8_0.2266_1.0_11_2.02_0.002840\n",
      "10 sequences of length 600 generated in 2.0663 seconds\n",
      "Generating sequences for: build_8_0.2_1.0_12_2.08_0.002845\n",
      "10 sequences of length 440 generated in 1.4172 seconds\n",
      "Generating sequences for: build_8_0.2187_1.0_17_2.05_0.003484\n",
      "10 sequences of length 512 generated in 1.6611 seconds\n",
      "Generating sequences for: build_8_0.2077_1.0_32_2.31_0.009225\n",
      "10 sequences of length 616 generated in 1.9761 seconds\n",
      "Generating sequences for: build_8_0.2031_1.0_23_2.24_0.005404\n",
      "10 sequences of length 512 generated in 1.6566 seconds\n",
      "Generating sequences for: build_8_0.2058_1.0_11_2.05_0.002785\n",
      "10 sequences of length 544 generated in 1.745 seconds\n",
      "Generating sequences for: build_8_0.2058_1.0_21_2.23_0.004921\n",
      "10 sequences of length 544 generated in 1.7456 seconds\n",
      "Generating sequences for: build_8_0.2089_1.0_20_2.15_0.004334\n",
      "10 sequences of length 536 generated in 1.7212 seconds\n",
      "Generating sequences for: build_8_0.2535_1.0_16_2.17_0.004212\n",
      "10 sequences of length 568 generated in 2.2274 seconds\n",
      "Generating sequences for: build_8_0.2096_1.0_27_2.06_0.005132\n",
      "10 sequences of length 496 generated in 1.6023 seconds\n",
      "Generating sequences for: build_8_0.2253_1.0_12_2.26_0.003257\n",
      "10 sequences of length 568 generated in 2.2271 seconds\n",
      "Generating sequences for: build_8_0.2063_1.0_11_2.32_0.003025\n",
      "10 sequences of length 504 generated in 1.6629 seconds\n",
      "Generating sequences for: build_8_0.2028_1.0_16_2.04_0.003142\n",
      "10 sequences of length 552 generated in 1.784 seconds\n",
      "Generating sequences for: build_8_0.2051_1.0_12_2.06_0.002850\n",
      "10 sequences of length 624 generated in 2.3951 seconds\n",
      "Generating sequences for: build_8_0.2153_1.0_21_2.07_0.004266\n",
      "10 sequences of length 520 generated in 1.6645 seconds\n",
      "Generating sequences for: build_8_0.2238_1.0_12_2.50_0.003495\n",
      "10 sequences of length 536 generated in 1.7425 seconds\n",
      "Generating sequences for: build_8_0.2187_0.96_17_2.36_0.004385\n",
      "10 sequences of length 512 generated in 1.6533 seconds\n",
      "Generating sequences for: build_8_0.2333_1.0_11_2.16_0.003048\n",
      "10 sequences of length 480 generated in 1.554 seconds\n",
      "Generating sequences for: build_8_0.2077_1.0_13_2.03_0.002900\n",
      "10 sequences of length 616 generated in 2.3589 seconds\n",
      "Generating sequences for: build_8_0.2051_1.0_13_2.12_0.003010\n",
      "10 sequences of length 624 generated in 2.0016 seconds\n",
      "Generating sequences for: build_8_0.2222_0.98_16_2.20_0.003818\n",
      "10 sequences of length 504 generated in 1.6257 seconds\n",
      "Generating sequences for: build_8_0.2207_1.0_11_2.32_0.003144\n",
      "10 sequences of length 616 generated in 1.9939 seconds\n",
      "Generating sequences for: build_8_0.2_1.0_12_2.24_0.003003\n",
      "10 sequences of length 640 generated in 2.0726 seconds\n",
      "Generating sequences for: build_8_0.2222_1.0_18_2.41_0.005304\n",
      "10 sequences of length 576 generated in 1.8819 seconds\n",
      "Generating sequences for: build_8_0.2372_1.0_11_2.72_0.003525\n",
      "10 sequences of length 472 generated in 1.5377 seconds\n"
     ]
    }
   ],
   "source": [
    "run_protein_mpnn(str(OUTPUT_PDB), str(OUTPUT_DIR/'protein_mpnn'))"
   ]
  },
  {
   "cell_type": "code",
   "execution_count": 7,
   "metadata": {},
   "outputs": [
    {
     "name": "stdout",
     "output_type": "stream",
     "text": [
      "Sequences   100/  100 done.\n"
     ]
    }
   ],
   "source": [
    "FASTA_DIR = OUTPUT_DIR/ \"protein_mpnn\" / \"seqs\"\n",
    "OUTPUT_SEQS = FASTA_DIR.parent / \"seqs_best\"\n",
    "fasta_files = [f for f in FASTA_DIR.iterdir() if f.suffix in [\".fasta\", \".fa\"]]\n",
    "\n",
    "for i, f in enumerate(fasta_files):\n",
    "    parse_and_extract(f, OUTPUT_SEQS, overwrite=True, n_seqs=3)\n",
    "    print(f\"Sequences {i+1:5}/{len(fasta_files):5} done.\")\n",
    "    clear_output(wait=True)"
   ]
  },
  {
   "cell_type": "code",
   "execution_count": 8,
   "metadata": {},
   "outputs": [
    {
     "name": "stdout",
     "output_type": "stream",
     "text": [
      "Sequences   300/  300 done.\n",
      "\n"
     ]
    }
   ],
   "source": [
    "fasta_files = [f for f in (OUTPUT_SEQS/\"trimer\").iterdir() if f.suffix in [\".fasta\", \".fa\"]]\n",
    "OUTPUT_LINKER = OUTPUT_SEQS / \"trimer_linker\"\n",
    "\n",
    "OUTPUT_LINKER.mkdir(parents=True, exist_ok=True)\n",
    "\n",
    "for i, f in enumerate(fasta_files):\n",
    "    o = OUTPUT_LINKER / f\"{f.stem}_linker.fasta\"\n",
    "    convert_fasta(f, o)\n",
    "    print(f\"Sequences {i+1:5}/{len(fasta_files):5} done.\\n\")\n",
    "    clear_output(wait=True)"
   ]
  },
  {
   "cell_type": "code",
   "execution_count": 20,
   "metadata": {},
   "outputs": [],
   "source": [
    "setting = 'trimer_linker'\n",
    "\n",
    "OUTPUT_OPENFOLD = OUTPUT_DIR / f\"openfold_{setting}\"\n",
    "FASTA_DIR = OUTPUT_LINKER\n",
    "\n",
    "create_empty_msas(str(FASTA_DIR), str(OUTPUT_OPENFOLD / \"alignments\"))"
   ]
  },
  {
   "cell_type": "code",
   "execution_count": 21,
   "metadata": {},
   "outputs": [
    {
     "data": {
      "text/plain": [
       "PosixPath('/nfs/homedirs/hetzell/code/protein_design/example_outputs/29Apr24_looping/protein_mpnn/seqs_best/trimer_linker')"
      ]
     },
     "execution_count": 21,
     "metadata": {},
     "output_type": "execute_result"
    }
   ],
   "source": [
    "FASTA_DIR"
   ]
  },
  {
   "cell_type": "code",
   "execution_count": null,
   "metadata": {},
   "outputs": [],
   "source": [
    "# # Only test on a subset of sequences\n",
    "# _FASTA_DIR = FASTA_DIR.parent / \"trimer_linker_test\"\n",
    "\n",
    "run_openfold(\n",
    "    fasta_dir=str(FASTA_DIR),\n",
    "    use_precomputed_alignments=str(OUTPUT_OPENFOLD / \"alignments\"),\n",
    "    config_preset=\"model_1\",\n",
    "    model_device=\"cuda:0\",\n",
    "    output_dir=str(OUTPUT_OPENFOLD),\n",
    ")"
   ]
  },
  {
   "cell_type": "code",
   "execution_count": 17,
   "metadata": {},
   "outputs": [],
   "source": [
    "setting = \"homomer\"\n",
    "\n",
    "OUTPUT_OPENFOLD = OUTPUT_DIR / f\"openfold_{setting}\"\n",
    "# Only test on a subset of sequences\n",
    "_FASTA_DIR = OUTPUT_DIR / \"protein_mpnn\" / \"seqs_best\" / \"homomer\"\n",
    "\n",
    "create_empty_msas(str(_FASTA_DIR), str(OUTPUT_OPENFOLD / \"alignments\"))"
   ]
  },
  {
   "cell_type": "code",
   "execution_count": 19,
   "metadata": {},
   "outputs": [
    {
     "name": "stderr",
     "output_type": "stream",
     "text": [
      "INFO:/nfs/staff-ssd/hetzell/code/protein_design/modules/openfold/openfold/utils/script_utils.py:Successfully loaded JAX parameters at modules/openfold/openfold/resources/params/params_model_1_multimer_v3.npz...\n",
      "INFO:/nfs/staff-ssd/hetzell/code/protein_design/modules/openfold/run_pretrained_openfold.py:Skipping build_8_0.2_0.94_11_2.03_0.002697_0__A-B-C-D-E-F-G-H_model_1_multimer_v3 as it already exists...\n"
     ]
    }
   ],
   "source": [
    "# Only test on a subset of sequences\n",
    "_FASTA_DIR = FASTA_DIR.parent / \"homomer_test\"\n",
    "\n",
    "run_openfold(\n",
    "    fasta_dir=str(_FASTA_DIR),\n",
    "    use_precomputed_alignments=str(OUTPUT_OPENFOLD / \"alignments\"),\n",
    "    config_preset=\"model_1_multimer_v3\",\n",
    "    model_device=\"cuda:0\",\n",
    "    output_dir=str(OUTPUT_OPENFOLD),\n",
    ")"
   ]
  },
  {
   "cell_type": "code",
   "execution_count": null,
   "metadata": {},
   "outputs": [],
   "source": []
  }
 ],
 "metadata": {
  "kernelspec": {
   "display_name": "protein-design-env",
   "language": "python",
   "name": "python3"
  },
  "language_info": {
   "codemirror_mode": {
    "name": "ipython",
    "version": 3
   },
   "file_extension": ".py",
   "mimetype": "text/x-python",
   "name": "python",
   "nbconvert_exporter": "python",
   "pygments_lexer": "ipython3",
   "version": "3.9.19"
  }
 },
 "nbformat": 4,
 "nbformat_minor": 2
}
